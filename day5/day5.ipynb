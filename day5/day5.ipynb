{
 "metadata": {
  "language_info": {
   "codemirror_mode": {
    "name": "ipython",
    "version": 3
   },
   "file_extension": ".py",
   "mimetype": "text/x-python",
   "name": "python",
   "nbconvert_exporter": "python",
   "pygments_lexer": "ipython3",
   "version": "3.6.9-final"
  },
  "orig_nbformat": 2,
  "kernelspec": {
   "name": "python3",
   "display_name": "Python 3.6.9 64-bit ('aoc')",
   "metadata": {
    "interpreter": {
     "hash": "932e4bd56ee6cd11c6d907ab62f579d0e148dfa0c30ff998d3bfb8bdf7b666f9"
    }
   }
  }
 },
 "nbformat": 4,
 "nbformat_minor": 2,
 "cells": [
  {
   "cell_type": "code",
   "execution_count": null,
   "metadata": {},
   "outputs": [],
   "source": [
    "import numpy as np\n",
    "\n",
    "def decode(boarding_card):\n",
    "    row_codes = boarding_card[0:7]\n",
    "    rows = list(range(0, 128))\n",
    "\n",
    "    for row_code in row_codes:\n",
    "        if row_code=='F':\n",
    "            rows = np.array_split(rows, 2)[0]\n",
    "        else:\n",
    "            rows = np.array_split(rows, 2)[1]\n",
    "    \n",
    "    column_codes = boarding_card[7:10]\n",
    "    columns = list(range(0, 8))\n",
    "\n",
    "    for column_code in column_codes:\n",
    "        if column_code=='L':\n",
    "            columns = np.array_split(columns, 2)[0]\n",
    "        else:\n",
    "            columns = np.array_split(columns, 2)[1]\n",
    "\n",
    "    return (rows[0] * 8) + columns[0]\n",
    "\n",
    "print(decode('FBFBBFFRLR'))\n",
    "print(decode('BFFFBBFRRR'))\n",
    "print(decode('FFFBBBFRRR'))\n",
    "print(decode('BBFFBBFRLL'))"
   ]
  },
  {
   "cell_type": "code",
   "execution_count": null,
   "metadata": {
    "tags": []
   },
   "outputs": [],
   "source": [
    "import numpy as np\n",
    "\n",
    "highest_seat_id = 0\n",
    "seats = []\n",
    "with open('day5.input') as f:\n",
    "    for line in f:\n",
    "        seat_code = decode(line)\n",
    "        seats.append(seat_code)\n",
    "        if seat_code > highest_seat_id:\n",
    "            highest_seat_id = seat_code\n",
    "\n",
    "#print(highest_seat_id)\n",
    "seats = np.sort(seats)\n",
    "for index, id in enumerate(seats, start=0):\n",
    "    if not id+1==seats[index+1]:\n",
    "        print(id+1)\n",
    "        break"
   ]
  },
  {
   "cell_type": "code",
   "execution_count": null,
   "metadata": {},
   "outputs": [],
   "source": []
  }
 ]
}