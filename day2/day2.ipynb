{
 "metadata": {
  "language_info": {
   "codemirror_mode": {
    "name": "ipython",
    "version": 3
   },
   "file_extension": ".py",
   "mimetype": "text/x-python",
   "name": "python",
   "nbconvert_exporter": "python",
   "pygments_lexer": "ipython3",
   "version": "3.6.9-final"
  },
  "orig_nbformat": 2,
  "kernelspec": {
   "name": "python3",
   "language": "python",
   "display_name": "Python 3"
  }
 },
 "nbformat": 4,
 "nbformat_minor": 2,
 "cells": [
  {
   "cell_type": "code",
   "execution_count": null,
   "metadata": {
    "tags": []
   },
   "outputs": [],
   "source": [
    "def password_is_valid(rule, character, password):\n",
    "    min, max = [int(x) for x in rule.split(\"-\")]\n",
    "    return password.count(character)>=min and password.count(character)<=max\n"
   ]
  },
  {
   "cell_type": "code",
   "execution_count": null,
   "metadata": {},
   "outputs": [],
   "source": [
    "def password_is_valid2(rule, character, password):\n",
    "    pos1, pos2 = [int(x) for x in rule.split(\"-\")]\n",
    "    #print(pos1, pos2, character, password, len(password), password[pos1-1], password[pos2-1])\n",
    "    return bool(password[pos1-1]==character) ^ bool(password[pos2-1]==character)"
   ]
  },
  {
   "cell_type": "code",
   "execution_count": null,
   "metadata": {
    "tags": []
   },
   "outputs": [],
   "source": [
    "fileinput = 'day2.input'\n",
    "valid_passwords = 0\n",
    "valid_passwords2 = 0\n",
    "with open(fileinput) as fi:\n",
    "   line = fi.readline()\n",
    "   while line:\n",
    "       rule, character, password = line.split()\n",
    "       character = character.rstrip(':')\n",
    "       valid_passwords+=password_is_valid(rule, character, password)\n",
    "       valid_passwords2+=password_is_valid2(rule, character, password)\n",
    "       line = fi.readline()\n",
    "    \n",
    "print(valid_passwords)\n",
    "print(valid_passwords2)"
   ]
  },
  {
   "cell_type": "code",
   "execution_count": null,
   "metadata": {},
   "outputs": [],
   "source": []
  }
 ]
}