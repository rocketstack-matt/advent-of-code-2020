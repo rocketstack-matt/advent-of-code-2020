{
 "metadata": {
  "language_info": {
   "codemirror_mode": {
    "name": "ipython",
    "version": 3
   },
   "file_extension": ".py",
   "mimetype": "text/x-python",
   "name": "python",
   "nbconvert_exporter": "python",
   "pygments_lexer": "ipython3",
   "version": "3.7.5-final"
  },
  "orig_nbformat": 2,
  "kernelspec": {
   "name": "python3",
   "display_name": "Python 3"
  }
 },
 "nbformat": 4,
 "nbformat_minor": 2,
 "cells": [
  {
   "cell_type": "code",
   "execution_count": null,
   "metadata": {
    "tags": []
   },
   "outputs": [],
   "source": [
    "from console import Console\n",
    "\n",
    "console = Console('day8.test')\n",
    "console.execute(-1)\n",
    "print(console.accumulator)"
   ]
  },
  {
   "cell_type": "code",
   "execution_count": null,
   "metadata": {},
   "outputs": [],
   "source": [
    "from console import Console\n",
    "\n",
    "console = Console('day8.input')\n",
    "console.execute(-1)\n",
    "print(console.accumulator)"
   ]
  },
  {
   "cell_type": "code",
   "execution_count": null,
   "metadata": {},
   "outputs": [],
   "source": [
    "from console import Console\n",
    "\n",
    "console = Console('day8.test')\n",
    "for position in range(0, len(console.program)+1):\n",
    "    if console.execute(position):\n",
    "        print(console.accumulator)\n",
    "        break\n",
    "    else:\n",
    "        console.reset()"
   ]
  },
  {
   "cell_type": "code",
   "execution_count": null,
   "metadata": {
    "tags": []
   },
   "outputs": [],
   "source": [
    "from console import Console\n",
    "\n",
    "console = Console('day8.input')\n",
    "for position in range(0, len(console.program)+1):\n",
    "    if console.execute(position):\n",
    "        print(console.accumulator)\n",
    "        break\n",
    "    else:\n",
    "        console.reset()"
   ]
  }
 ]
}