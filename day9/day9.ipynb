{
 "metadata": {
  "language_info": {
   "codemirror_mode": {
    "name": "ipython",
    "version": 3
   },
   "file_extension": ".py",
   "mimetype": "text/x-python",
   "name": "python",
   "nbconvert_exporter": "python",
   "pygments_lexer": "ipython3",
   "version": "3.7.5-final"
  },
  "orig_nbformat": 2,
  "kernelspec": {
   "name": "python3",
   "display_name": "Python 3",
   "language": "python"
  }
 },
 "nbformat": 4,
 "nbformat_minor": 2,
 "cells": [
  {
   "cell_type": "code",
   "execution_count": null,
   "metadata": {},
   "outputs": [],
   "source": [
    "from number import ValidNumber\n",
    "\n",
    "preamble_length = 5\n",
    "previous_numbers = list()\n",
    "with open('day9.test') as f:\n",
    "    for line in f:\n",
    "        num = int(line)\n",
    "        if len(previous_numbers)==preamble_length:\n",
    "            if not ValidNumber(num, previous_numbers).is_valid():\n",
    "                print(num)\n",
    "        previous_numbers.append(num)\n",
    "        if len(previous_numbers)>preamble_length:\n",
    "            previous_numbers.pop(0)\n",
    "        \n"
   ]
  },
  {
   "cell_type": "code",
   "execution_count": null,
   "metadata": {},
   "outputs": [],
   "source": [
    "from number import ValidNumber\n",
    "\n",
    "preamble_length = 25\n",
    "previous_numbers = list()\n",
    "with open('day9.input') as f:\n",
    "    for line in f:\n",
    "        num = int(line)\n",
    "        if len(previous_numbers)==preamble_length:\n",
    "            if not ValidNumber(num, previous_numbers).is_valid():\n",
    "                print(num)\n",
    "        previous_numbers.append(num)\n",
    "        if len(previous_numbers)>preamble_length:\n",
    "            previous_numbers.pop(0)"
   ]
  },
  {
   "cell_type": "code",
   "execution_count": null,
   "metadata": {},
   "outputs": [],
   "source": [
    "def find_target(target, input):\n",
    "    previous_numbers = list()\n",
    "    running_total = 0\n",
    "    with open(input) as f:\n",
    "        for line in f:\n",
    "            num = int(line)\n",
    "            previous_numbers.append(num)\n",
    "            running_total+=num\n",
    "            if running_total==target:\n",
    "                previous_numbers = sorted(previous_numbers)\n",
    "                return previous_numbers[0] + previous_numbers[len(previous_numbers)-1]\n",
    "            while running_total>target:\n",
    "                running_total-=previous_numbers.pop(0)\n",
    "                if running_total==target:\n",
    "                    previous_numbers = sorted(previous_numbers)\n",
    "                    return previous_numbers[0] + previous_numbers[len(previous_numbers)-1]"
   ]
  },
  {
   "cell_type": "code",
   "execution_count": null,
   "metadata": {},
   "outputs": [],
   "source": [
    "print(find_target(127, 'day9.test'))\n",
    "print(find_target(15690279, 'day9.input'))"
   ]
  },
  {
   "cell_type": "code",
   "execution_count": null,
   "metadata": {},
   "outputs": [],
   "source": []
  }
 ]
}