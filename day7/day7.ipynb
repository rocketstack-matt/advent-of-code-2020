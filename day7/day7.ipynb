{
 "metadata": {
  "language_info": {
   "codemirror_mode": {
    "name": "ipython",
    "version": 3
   },
   "file_extension": ".py",
   "mimetype": "text/x-python",
   "name": "python",
   "nbconvert_exporter": "python",
   "pygments_lexer": "ipython3",
   "version": "3.7.5-final"
  },
  "orig_nbformat": 2,
  "kernelspec": {
   "name": "python3",
   "display_name": "Python 3"
  }
 },
 "nbformat": 4,
 "nbformat_minor": 2,
 "cells": [
  {
   "cell_type": "code",
   "execution_count": 3,
   "metadata": {},
   "outputs": [
    {
     "output_type": "stream",
     "name": "stdout",
     "text": [
      "name: shiny gold {2: vibrant plum, 1: dark olive} [name: bright white {1: shiny gold}, name: muted yellow {9: faded blue, 2: shiny gold}]\n"
     ]
    }
   ],
   "source": [
    "from luggage import Bag\n",
    "\n",
    "bags = set()\n",
    "\n",
    "with open('day7.test') as f:\n",
    "    for line in f:\n",
    "        bag = Bag(line)\n",
    "        bags.add(bag)\n",
    "\n",
    "bag_dict = dict()\n",
    "for bag in bags:\n",
    "    for contained_bag in bag.contents:\n",
    "        try:\n",
    "            list_of_container_bags = bag_dict[contained_bag[1]]\n",
    "            list_of_container_bags.append(bag)\n",
    "            bag_dict[contained_bag[1]] = list_of_container_bags\n",
    "        except KeyError:\n",
    "            bag_dict[contained_bag[1]] = [bag]\n",
    "\n",
    "for bag in bags:\n",
    "    if bag.name == 'shiny gold':\n",
    "        print(bag.find_containers(bag_dict))\n"
   ]
  },
  {
   "cell_type": "code",
   "execution_count": null,
   "metadata": {},
   "outputs": [],
   "source": []
  }
 ]
}