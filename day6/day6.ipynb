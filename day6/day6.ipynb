{
 "metadata": {
  "language_info": {
   "codemirror_mode": {
    "name": "ipython",
    "version": 3
   },
   "file_extension": ".py",
   "mimetype": "text/x-python",
   "name": "python",
   "nbconvert_exporter": "python",
   "pygments_lexer": "ipython3",
   "version": "3.6.9-final"
  },
  "orig_nbformat": 2,
  "kernelspec": {
   "name": "python3",
   "display_name": "Python 3.6.9 64-bit ('aoc')",
   "metadata": {
    "interpreter": {
     "hash": "932e4bd56ee6cd11c6d907ab62f579d0e148dfa0c30ff998d3bfb8bdf7b666f9"
    }
   }
  }
 },
 "nbformat": 4,
 "nbformat_minor": 2,
 "cells": [
  {
   "cell_type": "code",
   "execution_count": 58,
   "metadata": {},
   "outputs": [],
   "source": [
    "def process_forms_anyone(input):\n",
    "    all_answers = []\n",
    "    for answers in input:\n",
    "        all_answers += list(answers)\n",
    "    \n",
    "    return set(all_answers)"
   ]
  },
  {
   "cell_type": "code",
   "execution_count": 59,
   "metadata": {},
   "outputs": [],
   "source": [
    "from collections import Counter\n",
    "\n",
    "def process_forms_everyone(input):\n",
    "    number_in_group = len(input)\n",
    "    \n",
    "    all_answers = []\n",
    "    for answers in input:\n",
    "        all_answers += list(answers)\n",
    "    \n",
    "    counts = Counter(all_answers)\n",
    "    everyone_answers = set()\n",
    "    for key in counts:\n",
    "        if counts[key]==number_in_group:\n",
    "            everyone_answers.add(key) \n",
    "    return set(everyone_answers)"
   ]
  },
  {
   "cell_type": "code",
   "execution_count": 60,
   "metadata": {},
   "outputs": [
    {
     "output_type": "stream",
     "name": "stdout",
     "text": [
      "11\n6\n"
     ]
    }
   ],
   "source": [
    "input = []\n",
    "count_anyone = 0\n",
    "count_everyone = 0\n",
    "with open('day6.input') as f:\n",
    "    for line in f:\n",
    "        if len(line.strip())==0:\n",
    "            count_anyone += len(process_forms_anyone(input))\n",
    "            count_everyone += len(process_forms_everyone(input))\n",
    "            input = []\n",
    "        else:\n",
    "            input.append(line.strip())\n",
    "    count_anyone += len(process_forms_anyone(input))\n",
    "    count_everyone += len(process_forms_everyone(input))\n",
    "\n",
    "print(count_anyone)\n",
    "print(count_everyone)"
   ]
  }
 ]
}