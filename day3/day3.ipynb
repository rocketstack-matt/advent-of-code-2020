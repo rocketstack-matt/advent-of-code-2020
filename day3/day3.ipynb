{
 "metadata": {
  "language_info": {
   "codemirror_mode": {
    "name": "ipython",
    "version": 3
   },
   "file_extension": ".py",
   "mimetype": "text/x-python",
   "name": "python",
   "nbconvert_exporter": "python",
   "pygments_lexer": "ipython3",
   "version": "3.6.9-final"
  },
  "orig_nbformat": 2,
  "kernelspec": {
   "name": "python3",
   "language": "python",
   "display_name": "Python 3"
  }
 },
 "nbformat": 4,
 "nbformat_minor": 2,
 "cells": [
  {
   "cell_type": "code",
   "execution_count": null,
   "metadata": {},
   "outputs": [],
   "source": [
    "def count_trees(input, across, down):\n",
    "    trees = 0\n",
    "    position = 0\n",
    "    length = len(input[0])\n",
    "    skip_row = down\n",
    "    for row in input:\n",
    "        if skip_row>0:\n",
    "            skip_row-=1\n",
    "        else:\n",
    "            position = position + across\n",
    "            if skip_row==0:\n",
    "                skip_row = down - 1\n",
    "            if position>=length:\n",
    "                position = position - length\n",
    "            if row[position] == '#':\n",
    "                trees+=1\n",
    "    \n",
    "    return trees"
   ]
  },
  {
   "cell_type": "code",
   "execution_count": null,
   "metadata": {},
   "outputs": [],
   "source": [
    "paths = [(1, 1), (3, 1), (5, 1), (7, 1), (1, 2)]"
   ]
  },
  {
   "cell_type": "code",
   "execution_count": null,
   "metadata": {
    "tags": []
   },
   "outputs": [],
   "source": [
    "import numpy as np\n",
    "\n",
    "input = []\n",
    "with open('day3.input') as f:\n",
    "  for line in f:\n",
    "    input.append(line.strip())\n",
    "\n",
    "print(np.prod([count_trees(input, across, down) for across, down in paths]))\n"
   ]
  }
 ]
}