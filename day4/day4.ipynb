{
 "metadata": {
  "language_info": {
   "codemirror_mode": {
    "name": "ipython",
    "version": 3
   },
   "file_extension": ".py",
   "mimetype": "text/x-python",
   "name": "python",
   "nbconvert_exporter": "python",
   "pygments_lexer": "ipython3",
   "version": "3.6.9-final"
  },
  "orig_nbformat": 2,
  "kernelspec": {
   "name": "python3",
   "display_name": "Python 3"
  }
 },
 "nbformat": 4,
 "nbformat_minor": 2,
 "cells": [
  {
   "cell_type": "code",
   "execution_count": null,
   "metadata": {},
   "outputs": [],
   "source": [
    "required_fields = ['byr', 'iyr', 'eyr', 'hgt', 'hcl', 'ecl', 'pid', 'cid']"
   ]
  },
  {
   "cell_type": "code",
   "execution_count": null,
   "metadata": {},
   "outputs": [],
   "source": [
    "def value_checker(min, max, value):\n",
    "    try:\n",
    "        intValue = int(value)\n",
    "        return min<=intValue<=max\n",
    "    except ValueError:\n",
    "        return False"
   ]
  },
  {
   "cell_type": "code",
   "execution_count": null,
   "metadata": {},
   "outputs": [],
   "source": [
    "def byr(value):\n",
    "    return value_checker(1920, 2002, value)"
   ]
  },
  {
   "cell_type": "code",
   "execution_count": null,
   "metadata": {},
   "outputs": [],
   "source": [
    "def iyr(value):\n",
    "    return value_checker(2010, 2020, value)"
   ]
  },
  {
   "cell_type": "code",
   "execution_count": null,
   "metadata": {},
   "outputs": [],
   "source": [
    "def eyr(value):\n",
    "    return value_checker(2020, 2030, value)"
   ]
  },
  {
   "cell_type": "code",
   "execution_count": null,
   "metadata": {},
   "outputs": [],
   "source": [
    "def hgt(value):\n",
    "    if (value.endswith('cm') or value.endswith('in')):\n",
    "        if value.endswith('cm'):\n",
    "            return 150<=int(value[0:len(value)-2])<=193\n",
    "        if value.endswith('in'):\n",
    "            return 59<=int(value[0:len(value)-2])<=76\n",
    "    \n",
    "    return False"
   ]
  },
  {
   "cell_type": "code",
   "execution_count": null,
   "metadata": {},
   "outputs": [],
   "source": [
    "import re\n",
    "\n",
    "def hcl(value):\n",
    "    match = re.search(r'^#(?:[0-9a-f]){6}$', value)\n",
    "    if match:\n",
    "        return True\n",
    "    return False"
   ]
  },
  {
   "cell_type": "code",
   "execution_count": null,
   "metadata": {},
   "outputs": [],
   "source": [
    "def ecl(value):\n",
    "    valid_eye_colours = ['amb', 'blu', 'brn', 'gry', 'grn', 'hzl', 'oth']\n",
    "    if value in valid_eye_colours:\n",
    "        return True\n",
    "    return False"
   ]
  },
  {
   "cell_type": "code",
   "execution_count": null,
   "metadata": {},
   "outputs": [],
   "source": [
    "def pid(value):\n",
    "    match = re.search(r'^(?:[0-9]){9}$', value)\n",
    "    if match:\n",
    "        return True\n",
    "    return False\n",
    "\n",
    "print(pid('000000001'))\n",
    "print(pid('0123456789'))"
   ]
  },
  {
   "cell_type": "code",
   "execution_count": null,
   "metadata": {},
   "outputs": [],
   "source": [
    "def default(value):\n",
    "    return True"
   ]
  },
  {
   "cell_type": "code",
   "execution_count": null,
   "metadata": {},
   "outputs": [],
   "source": [
    "field_checker = {\n",
    "    'byr': byr,\n",
    "    'iyr': iyr,\n",
    "    'eyr': eyr,\n",
    "    'hgt': hgt,\n",
    "    'hcl': hcl,\n",
    "    'ecl': ecl,\n",
    "    'pid': pid\n",
    "}"
   ]
  },
  {
   "cell_type": "code",
   "execution_count": null,
   "metadata": {},
   "outputs": [],
   "source": [
    "def valid_passport(passport):\n",
    "    flat_passport=' '\n",
    "    flat_passport=flat_passport.join(passport)\n",
    "\n",
    "    fields = []\n",
    "    for field in flat_passport.split():\n",
    "        fields.append(field.split(':'))\n",
    "    \n",
    "    \n",
    "    check_fields = required_fields.copy()\n",
    "    for field in fields:\n",
    "        try:\n",
    "            check_fields.remove(field[0])\n",
    "            if not field_checker.get(field[0], lambda value: default(value))(field[1]):\n",
    "                return False\n",
    "        except ValueError:\n",
    "            pass\n",
    "    \n",
    "    return ((len(check_fields)==0) or (len(check_fields)==1 and check_fields[0]=='cid'))\n"
   ]
  },
  {
   "cell_type": "code",
   "execution_count": null,
   "metadata": {
    "tags": []
   },
   "outputs": [],
   "source": [
    "valid_passports = 0\n",
    "with open('day4.input') as f:\n",
    "    passport = []\n",
    "    for line in f:\n",
    "        if len(line.strip())==0:\n",
    "            valid_passports+=valid_passport(passport)\n",
    "            passport = []\n",
    "        else:\n",
    "            passport.append(line.strip())\n",
    "    valid_passports+=valid_passport(passport)\n",
    "\n",
    "print(valid_passports)"
   ]
  }
 ]
}